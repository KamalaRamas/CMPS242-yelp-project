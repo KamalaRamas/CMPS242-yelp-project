{
 "cells": [
  {
   "cell_type": "code",
   "execution_count": 2,
   "metadata": {
    "collapsed": true
   },
   "outputs": [],
   "source": [
    "import json\n",
    "import pandas as pd\n",
    "import datetime"
   ]
  },
  {
   "cell_type": "code",
   "execution_count": 3,
   "metadata": {
    "collapsed": false
   },
   "outputs": [],
   "source": [
    "with open('yelp_academic_dataset_business.json') as f:\n",
    "     business_data = pd.DataFrame(json.loads(line) for line in f)\n",
    "        \n",
    "with open('yelp_academic_dataset_user.json') as f:\n",
    "     user_data = pd.DataFrame(json.loads(line) for line in f)\n",
    "        \n",
    "with open('yelp_academic_dataset_review.json') as f:\n",
    "     review_data = pd.DataFrame(json.loads(line) for line in f)\n",
    "        \n",
    "with open('yelp_academic_dataset_tip.json') as f:\n",
    "     tip_data = pd.DataFrame(json.loads(line) for line in f)"
   ]
  },
  {
   "cell_type": "code",
   "execution_count": 4,
   "metadata": {
    "collapsed": false
   },
   "outputs": [],
   "source": [
    "# First generate the common portion of the dataframe\n",
    "# From user data\n",
    "\n",
    "# Keep total number of reviews/ user as is\n",
    "# Collapse elite into total counts\n",
    "# Keep number of fans as is\n",
    "# Collapse yelping since into an integer(# of days old)\n",
    "\n",
    "elite = [len(x) for x in user_data['elite']]\n",
    "account_age = [(datetime.datetime.now() - x).days for x in pd.to_datetime(user_data['yelping_since'])]"
   ]
  },
  {
   "cell_type": "code",
   "execution_count": 5,
   "metadata": {
    "collapsed": false
   },
   "outputs": [],
   "source": [
    "# Look for \"profile\" in compliments - This represents profile likes\n",
    "# Look for \"useful\" in votes - This represents the number of reviews the user has found useful\n",
    "\n",
    "useful_votes = []\n",
    "profile = []\n",
    "\n",
    "compliments = user_data['compliments']\n",
    "\n",
    "for ind in range(len(compliments)):\n",
    "    if 'profile' in compliments[ind]:\n",
    "        profile.append(compliments[ind]['profile'])\n",
    "    else:\n",
    "        profile.append(0)\n",
    "\n",
    "votes = user_data['votes']\n",
    "for ind in range(len(votes)):\n",
    "    if 'useful' in votes[ind]:\n",
    "        useful_votes.append(votes[ind]['useful'])\n",
    "    else:\n",
    "        useful_votes.append(0)"
   ]
  },
  {
   "cell_type": "code",
   "execution_count": 29,
   "metadata": {
    "collapsed": false
   },
   "outputs": [
    {
     "data": {
      "text/html": [
       "<div>\n",
       "<table border=\"1\" class=\"dataframe\">\n",
       "  <thead>\n",
       "    <tr style=\"text-align: right;\">\n",
       "      <th></th>\n",
       "      <th>num_tips</th>\n",
       "      <th>num_likes</th>\n",
       "    </tr>\n",
       "    <tr>\n",
       "      <th>user_id</th>\n",
       "      <th></th>\n",
       "      <th></th>\n",
       "    </tr>\n",
       "  </thead>\n",
       "  <tbody>\n",
       "    <tr>\n",
       "      <th>--0mI_q_0D1CdU4P_hoImQ</th>\n",
       "      <td>1</td>\n",
       "      <td>0</td>\n",
       "    </tr>\n",
       "    <tr>\n",
       "      <th>--2QZsyXGz1OhiD4-0FQLQ</th>\n",
       "      <td>5</td>\n",
       "      <td>0</td>\n",
       "    </tr>\n",
       "    <tr>\n",
       "      <th>--4TkB_iDShmg41Y_QW9nw</th>\n",
       "      <td>3</td>\n",
       "      <td>0</td>\n",
       "    </tr>\n",
       "    <tr>\n",
       "      <th>--4fX3LBeXoE88gDTK6TKQ</th>\n",
       "      <td>1</td>\n",
       "      <td>0</td>\n",
       "    </tr>\n",
       "    <tr>\n",
       "      <th>--65q1FpAL_UQtVZ2PTGew</th>\n",
       "      <td>156</td>\n",
       "      <td>1</td>\n",
       "    </tr>\n",
       "  </tbody>\n",
       "</table>\n",
       "</div>"
      ],
      "text/plain": [
       "                        num_tips  num_likes\n",
       "user_id                                    \n",
       "--0mI_q_0D1CdU4P_hoImQ         1          0\n",
       "--2QZsyXGz1OhiD4-0FQLQ         5          0\n",
       "--4TkB_iDShmg41Y_QW9nw         3          0\n",
       "--4fX3LBeXoE88gDTK6TKQ         1          0\n",
       "--65q1FpAL_UQtVZ2PTGew       156          1"
      ]
     },
     "execution_count": 29,
     "metadata": {},
     "output_type": "execute_result"
    }
   ],
   "source": [
    "#  Look at tip data to get:\n",
    "# Total # of tips\n",
    "# Total # of tip likes\n",
    "grouped_tips_users = tip_data.groupby('user_id')\n",
    "\n",
    "num_likes = [user_tips['likes'].sum() for key, user_tips in grouped_tips_users]\n",
    "num_tips = [len(user_tips) for key, user_tips in grouped_tips_users ]\n",
    "user_ids = [key for key, user_tips in grouped_tips_users]\n",
    "\n",
    "gen_tip_df = pd.DataFrame(zip(*[user_ids, num_tips, num_likes]))\n",
    "gen_tip_df.columns = ['user_id', 'num_tips', 'num_likes']\n",
    "gen_tip_df = gen_tip_df.set_index('user_id')\n",
    "\n",
    "gen_tip_df.head()"
   ]
  },
  {
   "cell_type": "code",
   "execution_count": 26,
   "metadata": {
    "collapsed": false
   },
   "outputs": [
    {
     "data": {
      "text/html": [
       "<div>\n",
       "<table border=\"1\" class=\"dataframe\">\n",
       "  <thead>\n",
       "    <tr style=\"text-align: right;\">\n",
       "      <th></th>\n",
       "      <th>review_count</th>\n",
       "      <th>elite</th>\n",
       "      <th>account_age</th>\n",
       "      <th>fans</th>\n",
       "      <th>profile</th>\n",
       "      <th>useful_votes</th>\n",
       "    </tr>\n",
       "    <tr>\n",
       "      <th>user_id</th>\n",
       "      <th></th>\n",
       "      <th></th>\n",
       "      <th></th>\n",
       "      <th></th>\n",
       "      <th></th>\n",
       "      <th></th>\n",
       "    </tr>\n",
       "  </thead>\n",
       "  <tbody>\n",
       "    <tr>\n",
       "      <th>18kPq7GPye-YQ3LyKyAZPw</th>\n",
       "      <td>108</td>\n",
       "      <td>2</td>\n",
       "      <td>4420</td>\n",
       "      <td>69</td>\n",
       "      <td>8</td>\n",
       "      <td>282</td>\n",
       "    </tr>\n",
       "    <tr>\n",
       "      <th>rpOyqD_893cqmDAtJLbdog</th>\n",
       "      <td>1292</td>\n",
       "      <td>12</td>\n",
       "      <td>4420</td>\n",
       "      <td>1345</td>\n",
       "      <td>117</td>\n",
       "      <td>15242</td>\n",
       "    </tr>\n",
       "    <tr>\n",
       "      <th>4U9kSBLuBDU391x6bxU-YA</th>\n",
       "      <td>395</td>\n",
       "      <td>11</td>\n",
       "      <td>4420</td>\n",
       "      <td>105</td>\n",
       "      <td>9</td>\n",
       "      <td>1349</td>\n",
       "    </tr>\n",
       "    <tr>\n",
       "      <th>fHtTaujcyKvXglE33Z5yIw</th>\n",
       "      <td>11</td>\n",
       "      <td>0</td>\n",
       "      <td>4420</td>\n",
       "      <td>2</td>\n",
       "      <td>0</td>\n",
       "      <td>11</td>\n",
       "    </tr>\n",
       "    <tr>\n",
       "      <th>SIBCL7HBkrP4llolm4SC2A</th>\n",
       "      <td>66</td>\n",
       "      <td>1</td>\n",
       "      <td>4420</td>\n",
       "      <td>5</td>\n",
       "      <td>0</td>\n",
       "      <td>37</td>\n",
       "    </tr>\n",
       "  </tbody>\n",
       "</table>\n",
       "</div>"
      ],
      "text/plain": [
       "                        review_count  elite  account_age  fans  profile  \\\n",
       "user_id                                                                   \n",
       "18kPq7GPye-YQ3LyKyAZPw           108      2         4420    69        8   \n",
       "rpOyqD_893cqmDAtJLbdog          1292     12         4420  1345      117   \n",
       "4U9kSBLuBDU391x6bxU-YA           395     11         4420   105        9   \n",
       "fHtTaujcyKvXglE33Z5yIw            11      0         4420     2        0   \n",
       "SIBCL7HBkrP4llolm4SC2A            66      1         4420     5        0   \n",
       "\n",
       "                        useful_votes  \n",
       "user_id                               \n",
       "18kPq7GPye-YQ3LyKyAZPw           282  \n",
       "rpOyqD_893cqmDAtJLbdog         15242  \n",
       "4U9kSBLuBDU391x6bxU-YA          1349  \n",
       "fHtTaujcyKvXglE33Z5yIw            11  \n",
       "SIBCL7HBkrP4llolm4SC2A            37  "
      ]
     },
     "execution_count": 26,
     "metadata": {},
     "output_type": "execute_result"
    }
   ],
   "source": [
    "user_df = pd.DataFrame(zip(*[user_data.user_id, user_data.review_count, elite, account_age, user_data.fans, profile, useful_votes]))\n",
    "user_df.columns = ['user_id', 'review_count', 'elite', 'account_age', 'fans', 'profile', 'useful_votes']\n",
    "user_df = user_df.set_index('user_id')\n",
    "\n",
    "user_df.head()"
   ]
  },
  {
   "cell_type": "code",
   "execution_count": 30,
   "metadata": {
    "collapsed": false
   },
   "outputs": [
    {
     "data": {
      "text/html": [
       "<div>\n",
       "<table border=\"1\" class=\"dataframe\">\n",
       "  <thead>\n",
       "    <tr style=\"text-align: right;\">\n",
       "      <th></th>\n",
       "      <th>review_count</th>\n",
       "      <th>elite</th>\n",
       "      <th>account_age</th>\n",
       "      <th>fans</th>\n",
       "      <th>profile</th>\n",
       "      <th>useful_votes</th>\n",
       "      <th>num_tips</th>\n",
       "      <th>num_likes</th>\n",
       "    </tr>\n",
       "    <tr>\n",
       "      <th>user_id</th>\n",
       "      <th></th>\n",
       "      <th></th>\n",
       "      <th></th>\n",
       "      <th></th>\n",
       "      <th></th>\n",
       "      <th></th>\n",
       "      <th></th>\n",
       "      <th></th>\n",
       "    </tr>\n",
       "  </thead>\n",
       "  <tbody>\n",
       "    <tr>\n",
       "      <th>---teJGnwK07UO6_oJfbRw</th>\n",
       "      <td>2</td>\n",
       "      <td>0</td>\n",
       "      <td>2017</td>\n",
       "      <td>0</td>\n",
       "      <td>0</td>\n",
       "      <td>0</td>\n",
       "      <td>0.0</td>\n",
       "      <td>0.0</td>\n",
       "    </tr>\n",
       "    <tr>\n",
       "      <th>--0HEXd4W6bJI8k7E0RxTA</th>\n",
       "      <td>34</td>\n",
       "      <td>0</td>\n",
       "      <td>1651</td>\n",
       "      <td>2</td>\n",
       "      <td>0</td>\n",
       "      <td>15</td>\n",
       "      <td>0.0</td>\n",
       "      <td>0.0</td>\n",
       "    </tr>\n",
       "    <tr>\n",
       "      <th>--0KsjlAThNWua2Pr4HStQ</th>\n",
       "      <td>60</td>\n",
       "      <td>2</td>\n",
       "      <td>1010</td>\n",
       "      <td>2</td>\n",
       "      <td>0</td>\n",
       "      <td>191</td>\n",
       "      <td>0.0</td>\n",
       "      <td>0.0</td>\n",
       "    </tr>\n",
       "    <tr>\n",
       "      <th>--0mI_q_0D1CdU4P_hoImQ</th>\n",
       "      <td>31</td>\n",
       "      <td>0</td>\n",
       "      <td>1956</td>\n",
       "      <td>1</td>\n",
       "      <td>0</td>\n",
       "      <td>17</td>\n",
       "      <td>1.0</td>\n",
       "      <td>0.0</td>\n",
       "    </tr>\n",
       "    <tr>\n",
       "      <th>--106arHH4D3fLenTl3YZA</th>\n",
       "      <td>1</td>\n",
       "      <td>0</td>\n",
       "      <td>921</td>\n",
       "      <td>0</td>\n",
       "      <td>0</td>\n",
       "      <td>1</td>\n",
       "      <td>0.0</td>\n",
       "      <td>0.0</td>\n",
       "    </tr>\n",
       "  </tbody>\n",
       "</table>\n",
       "</div>"
      ],
      "text/plain": [
       "                        review_count  elite  account_age  fans  profile  \\\n",
       "user_id                                                                   \n",
       "---teJGnwK07UO6_oJfbRw             2      0         2017     0        0   \n",
       "--0HEXd4W6bJI8k7E0RxTA            34      0         1651     2        0   \n",
       "--0KsjlAThNWua2Pr4HStQ            60      2         1010     2        0   \n",
       "--0mI_q_0D1CdU4P_hoImQ            31      0         1956     1        0   \n",
       "--106arHH4D3fLenTl3YZA             1      0          921     0        0   \n",
       "\n",
       "                        useful_votes  num_tips  num_likes  \n",
       "user_id                                                    \n",
       "---teJGnwK07UO6_oJfbRw             0       0.0        0.0  \n",
       "--0HEXd4W6bJI8k7E0RxTA            15       0.0        0.0  \n",
       "--0KsjlAThNWua2Pr4HStQ           191       0.0        0.0  \n",
       "--0mI_q_0D1CdU4P_hoImQ            17       1.0        0.0  \n",
       "--106arHH4D3fLenTl3YZA             1       0.0        0.0  "
      ]
     },
     "execution_count": 30,
     "metadata": {},
     "output_type": "execute_result"
    }
   ],
   "source": [
    "common_df = pd.merge(user_df, gen_tip_df, how='outer',left_index=True, right_index=True)\n",
    "common_df = common_df.fillna(0)\n",
    "common_df.head()"
   ]
  },
  {
   "cell_type": "code",
   "execution_count": 33,
   "metadata": {
    "collapsed": false
   },
   "outputs": [
    {
     "name": "stdout",
     "output_type": "stream",
     "text": [
      "22\n",
      "set([u'Beauty & Spas', u'Arts & Entertainment', u'Pets', u'Home Services', u'Shopping', u'Food', u'Automotive', u'Religious Organizations', u'Local Flavor', u'Hotels & Travel', u'Local Services', u'Nightlife', u'Restaurants', None, u'Active Life', u'Public Services & Government', u'Health & Medical', u'Financial Services', u'Mass Media', u'Professional Services', u'Education', u'Event Planning & Services'])\n"
     ]
    }
   ],
   "source": [
    "import itertools\n",
    "from collections import Counter\n",
    "category_counts = Counter(itertools.chain.from_iterable(business_data['categories']))\n",
    "category_counts.most_common(20)\n",
    "\n",
    "def find_best(cat_list):\n",
    "    counts = [[x, category_counts[x]] for x in cat_list]\n",
    "    return sorted(counts, key=lambda (cat, count): -count)[0][0]\n",
    "\n",
    "categories = [find_best(cat_list) if len(cat_list) > 0 else None for cat_list in business_data['categories']]\n",
    "print len(set(categories))\n",
    "print set(categories)\n",
    "\n",
    "business_df = pd.DataFrame(zip(*[business_data.business_id, categories]))\n",
    "business_df.columns = ['business_id', 'category']\n",
    "business_df = business_df[~business_df.category.isnull()]\n",
    "business_df = business_df.set_index('business_id')"
   ]
  },
  {
   "cell_type": "code",
   "execution_count": 73,
   "metadata": {
    "collapsed": false
   },
   "outputs": [],
   "source": [
    "# Add categories to business data\n",
    "business_data_aug = pd.merge(business_data, business_df, left_on='business_id', right_index=True, how='right')\n",
    "business_data_aug = business_data_aug.fillna(0)\n",
    "\n",
    "# Add categories to tip data\n",
    "tip_data_aug = pd.merge(tip_data, business_df, left_on='business_id', right_index=True, how='right')\n",
    "tip_data_aug = tip_data_aug.fillna(0)\n",
    "\n",
    "# Add categories to reiew data\n",
    "review_data_aug = pd.merge(review_data, business_df, left_on='business_id', right_index=True, how='right')\n",
    "review_data_aug = review_data_aug.fillna(0)\n"
   ]
  }
 ],
 "metadata": {
  "kernelspec": {
   "display_name": "Python 2",
   "language": "python",
   "name": "python2"
  },
  "language_info": {
   "codemirror_mode": {
    "name": "ipython",
    "version": 2
   },
   "file_extension": ".py",
   "mimetype": "text/x-python",
   "name": "python",
   "nbconvert_exporter": "python",
   "pygments_lexer": "ipython2",
   "version": "2.7.10"
  }
 },
 "nbformat": 4,
 "nbformat_minor": 0
}
