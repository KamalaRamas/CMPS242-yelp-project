{
 "cells": [
  {
   "cell_type": "markdown",
   "metadata": {},
   "source": [
    "## Implementation of k-means clustering alogrithm"
   ]
  },
  {
   "cell_type": "code",
   "execution_count": 15,
   "metadata": {
    "collapsed": true
   },
   "outputs": [],
   "source": [
    "%matplotlib inline\n",
    "import pandas as pd\n",
    "import simplejson as json  # faster json parsing\n",
    "import seaborn as sns\n",
    "import matplotlib.pyplot as plt\n",
    "import numpy as np\n",
    "from random import sample"
   ]
  },
  {
   "cell_type": "code",
   "execution_count": 57,
   "metadata": {
    "collapsed": true
   },
   "outputs": [],
   "source": [
    "def distance(x, y):\n",
    "    return np.linalg.norm(x - y)"
   ]
  },
  {
   "cell_type": "code",
   "execution_count": 87,
   "metadata": {
    "collapsed": false
   },
   "outputs": [],
   "source": [
    "class KMeans(object):\n",
    "    def __init__(self, k):\n",
    "        \"\"\"\n",
    "        This class was inspired by the Data Science from Scratch book\n",
    "        \"\"\"\n",
    "        self.k = k \n",
    "        self.clusters = []    # List of cluster centers\n",
    "        \n",
    "    def classify(self, x):\n",
    "        \"\"\"\n",
    "        Takes a vector x and returns the cluster it's closest to\n",
    "        \"\"\"\n",
    "        return min(xrange(self.k),\n",
    "                   key=lambda i: distance(x, self.clusters[i]))\n",
    "    \n",
    "    def train(self, data):\n",
    "        \"\"\"\n",
    "        Trains clustering algorithm with a list of data points\n",
    "        \"\"\"\n",
    "        self.clusters = sample(data, self.k)\n",
    "        \n",
    "        # A group is the beginnings of a cluster\n",
    "        groups = None\n",
    "        \n",
    "        while True:\n",
    "            new_groups = map(self.classify, data)\n",
    "            \n",
    "            if groups == new_groups:\n",
    "                self.groups = new_groups\n",
    "                return\n",
    "            \n",
    "            groups = new_groups\n",
    "            \n",
    "            for i in xrange(self.k):\n",
    "                cluster_points = np.array([p for p, a in zip(data, groups) if a == i])\n",
    "            \n",
    "                if len(cluster_points) > 0:\n",
    "                    self.clusters[i] = cluster_points.mean(axis=0)"
   ]
  },
  {
   "cell_type": "code",
   "execution_count": 71,
   "metadata": {
    "collapsed": false
   },
   "outputs": [],
   "source": [
    "# Import data\n",
    "with open('data/yelp_academic_dataset_user.json') as f:\n",
    "    user_data = pd.DataFrame(json.loads(line) for line in f)\n",
    "\n",
    "#with open('yelp_academic_dataset_review.json') as f:\n",
    "#    review_data = pd.DataFrame(json.loads(line) for line in f)\n",
    "\n",
    "#with open('yelp_academic_dataset_business.json') as f:\n",
    "#    business_data = pd.DataFrame(json.loads(line) for line in f)"
   ]
  },
  {
   "cell_type": "code",
   "execution_count": 72,
   "metadata": {
    "collapsed": false
   },
   "outputs": [
    {
     "data": {
      "text/html": [
       "<div>\n",
       "<table border=\"1\" class=\"dataframe\">\n",
       "  <thead>\n",
       "    <tr style=\"text-align: right;\">\n",
       "      <th></th>\n",
       "      <th>average_stars</th>\n",
       "      <th>compliments</th>\n",
       "      <th>elite</th>\n",
       "      <th>fans</th>\n",
       "      <th>friends</th>\n",
       "      <th>name</th>\n",
       "      <th>review_count</th>\n",
       "      <th>type</th>\n",
       "      <th>user_id</th>\n",
       "      <th>votes</th>\n",
       "      <th>yelping_since</th>\n",
       "    </tr>\n",
       "  </thead>\n",
       "  <tbody>\n",
       "    <tr>\n",
       "      <th>0</th>\n",
       "      <td>4.14</td>\n",
       "      <td>{u'profile': 8, u'cute': 15, u'funny': 11, u'p...</td>\n",
       "      <td>[2005, 2006]</td>\n",
       "      <td>69</td>\n",
       "      <td>[rpOyqD_893cqmDAtJLbdog, 4U9kSBLuBDU391x6bxU-Y...</td>\n",
       "      <td>Russel</td>\n",
       "      <td>108</td>\n",
       "      <td>user</td>\n",
       "      <td>18kPq7GPye-YQ3LyKyAZPw</td>\n",
       "      <td>{u'funny': 167, u'useful': 282, u'cool': 246}</td>\n",
       "      <td>2004-10</td>\n",
       "    </tr>\n",
       "    <tr>\n",
       "      <th>1</th>\n",
       "      <td>3.67</td>\n",
       "      <td>{u'profile': 117, u'cute': 204, u'funny': 594,...</td>\n",
       "      <td>[2005, 2006, 2007, 2008, 2009, 2010, 2011, 201...</td>\n",
       "      <td>1345</td>\n",
       "      <td>[18kPq7GPye-YQ3LyKyAZPw, 4U9kSBLuBDU391x6bxU-Y...</td>\n",
       "      <td>Jeremy</td>\n",
       "      <td>1292</td>\n",
       "      <td>user</td>\n",
       "      <td>rpOyqD_893cqmDAtJLbdog</td>\n",
       "      <td>{u'funny': 8399, u'useful': 15242, u'cool': 12...</td>\n",
       "      <td>2004-10</td>\n",
       "    </tr>\n",
       "    <tr>\n",
       "      <th>2</th>\n",
       "      <td>3.68</td>\n",
       "      <td>{u'profile': 9, u'cute': 22, u'funny': 96, u'p...</td>\n",
       "      <td>[2005, 2006, 2007, 2008, 2009, 2010, 2011, 201...</td>\n",
       "      <td>105</td>\n",
       "      <td>[18kPq7GPye-YQ3LyKyAZPw, rpOyqD_893cqmDAtJLbdo...</td>\n",
       "      <td>Michael</td>\n",
       "      <td>395</td>\n",
       "      <td>user</td>\n",
       "      <td>4U9kSBLuBDU391x6bxU-YA</td>\n",
       "      <td>{u'funny': 722, u'useful': 1349, u'cool': 657}</td>\n",
       "      <td>2004-10</td>\n",
       "    </tr>\n",
       "    <tr>\n",
       "      <th>3</th>\n",
       "      <td>4.64</td>\n",
       "      <td>{u'cute': 2}</td>\n",
       "      <td>[]</td>\n",
       "      <td>2</td>\n",
       "      <td>[18kPq7GPye-YQ3LyKyAZPw, rpOyqD_893cqmDAtJLbdo...</td>\n",
       "      <td>Ken</td>\n",
       "      <td>11</td>\n",
       "      <td>user</td>\n",
       "      <td>fHtTaujcyKvXglE33Z5yIw</td>\n",
       "      <td>{u'funny': 1, u'useful': 11, u'cool': 5}</td>\n",
       "      <td>2004-10</td>\n",
       "    </tr>\n",
       "    <tr>\n",
       "      <th>4</th>\n",
       "      <td>3.80</td>\n",
       "      <td>{u'cute': 2, u'plain': 2, u'writer': 2, u'note...</td>\n",
       "      <td>[2005]</td>\n",
       "      <td>5</td>\n",
       "      <td>[rpOyqD_893cqmDAtJLbdog, HDQixQ-WZEV0LVPJlIGQe...</td>\n",
       "      <td>Katherine</td>\n",
       "      <td>66</td>\n",
       "      <td>user</td>\n",
       "      <td>SIBCL7HBkrP4llolm4SC2A</td>\n",
       "      <td>{u'funny': 13, u'useful': 37, u'cool': 16}</td>\n",
       "      <td>2004-10</td>\n",
       "    </tr>\n",
       "  </tbody>\n",
       "</table>\n",
       "</div>"
      ],
      "text/plain": [
       "   average_stars                                        compliments  \\\n",
       "0           4.14  {u'profile': 8, u'cute': 15, u'funny': 11, u'p...   \n",
       "1           3.67  {u'profile': 117, u'cute': 204, u'funny': 594,...   \n",
       "2           3.68  {u'profile': 9, u'cute': 22, u'funny': 96, u'p...   \n",
       "3           4.64                                       {u'cute': 2}   \n",
       "4           3.80  {u'cute': 2, u'plain': 2, u'writer': 2, u'note...   \n",
       "\n",
       "                                               elite  fans  \\\n",
       "0                                       [2005, 2006]    69   \n",
       "1  [2005, 2006, 2007, 2008, 2009, 2010, 2011, 201...  1345   \n",
       "2  [2005, 2006, 2007, 2008, 2009, 2010, 2011, 201...   105   \n",
       "3                                                 []     2   \n",
       "4                                             [2005]     5   \n",
       "\n",
       "                                             friends       name  review_count  \\\n",
       "0  [rpOyqD_893cqmDAtJLbdog, 4U9kSBLuBDU391x6bxU-Y...     Russel           108   \n",
       "1  [18kPq7GPye-YQ3LyKyAZPw, 4U9kSBLuBDU391x6bxU-Y...     Jeremy          1292   \n",
       "2  [18kPq7GPye-YQ3LyKyAZPw, rpOyqD_893cqmDAtJLbdo...    Michael           395   \n",
       "3  [18kPq7GPye-YQ3LyKyAZPw, rpOyqD_893cqmDAtJLbdo...        Ken            11   \n",
       "4  [rpOyqD_893cqmDAtJLbdog, HDQixQ-WZEV0LVPJlIGQe...  Katherine            66   \n",
       "\n",
       "   type                 user_id  \\\n",
       "0  user  18kPq7GPye-YQ3LyKyAZPw   \n",
       "1  user  rpOyqD_893cqmDAtJLbdog   \n",
       "2  user  4U9kSBLuBDU391x6bxU-YA   \n",
       "3  user  fHtTaujcyKvXglE33Z5yIw   \n",
       "4  user  SIBCL7HBkrP4llolm4SC2A   \n",
       "\n",
       "                                               votes yelping_since  \n",
       "0      {u'funny': 167, u'useful': 282, u'cool': 246}       2004-10  \n",
       "1  {u'funny': 8399, u'useful': 15242, u'cool': 12...       2004-10  \n",
       "2     {u'funny': 722, u'useful': 1349, u'cool': 657}       2004-10  \n",
       "3           {u'funny': 1, u'useful': 11, u'cool': 5}       2004-10  \n",
       "4         {u'funny': 13, u'useful': 37, u'cool': 16}       2004-10  "
      ]
     },
     "execution_count": 72,
     "metadata": {},
     "output_type": "execute_result"
    }
   ],
   "source": [
    "user_data.head()"
   ]
  },
  {
   "cell_type": "code",
   "execution_count": 73,
   "metadata": {
    "collapsed": false
   },
   "outputs": [],
   "source": [
    "# Let's define a feature vectore <# Reviews, # useful>\n",
    "data = []\n",
    "for name, values in user_data.sample(frac=0.1, replace=False).iterrows():\n",
    "    datum = np.array([values['average_stars'], values['votes']['useful']])\n",
    "    data.append(datum)"
   ]
  },
  {
   "cell_type": "code",
   "execution_count": 74,
   "metadata": {
    "collapsed": false
   },
   "outputs": [
    {
     "data": {
      "text/plain": [
       "<matplotlib.collections.PathCollection at 0x7f7263968490>"
      ]
     },
     "execution_count": 74,
     "metadata": {},
     "output_type": "execute_result"
    },
    {
     "data": {
      "image/png": "[encoded data removed]",
      "text/plain": [
       "<matplotlib.figure.Figure at 0x7f71abb6bd90>"
      ]
     },
     "metadata": {},
     "output_type": "display_data"
    }
   ],
   "source": [
    "plt.scatter([x[0] for x in data], [x[1] for x in data])"
   ]
  },
  {
   "cell_type": "code",
   "execution_count": 78,
   "metadata": {
    "collapsed": false
   },
   "outputs": [
    {
     "data": {
      "text/plain": [
       "[1, 1, 1, 1, 1, 1, 1, 1, 1, 1]"
      ]
     },
     "execution_count": 78,
     "metadata": {},
     "output_type": "execute_result"
    }
   ],
   "source": [
    "kmeans = KMeans(2)\n",
    "kmeans.train(data)"
   ]
  },
  {
   "cell_type": "code",
   "execution_count": 83,
   "metadata": {
    "collapsed": false
   },
   "outputs": [],
   "source": [
    "group_zero = [p for p, a in zip(data, kmeans.groups) if a == 0]\n",
    "group_one = [p for p, a in zip(data, kmeans.groups) if a == 1]"
   ]
  },
  {
   "cell_type": "code",
   "execution_count": 86,
   "metadata": {
    "collapsed": false
   },
   "outputs": [
    {
     "data": {
      "text/plain": [
       "<matplotlib.collections.PathCollection at 0x7f7271b5dc50>"
      ]
     },
     "execution_count": 86,
     "metadata": {},
     "output_type": "execute_result"
    },
    {
     "data": {
      "image/png": "[encoded data removed]",
      "text/plain": [
       "<matplotlib.figure.Figure at 0x7f72799f2890>"
      ]
     },
     "metadata": {},
     "output_type": "display_data"
    }
   ],
   "source": [
    "plt.scatter([x[0] for x in group_zero], [x[1] for x in group_zero], color='b')\n",
    "plt.scatter([x[0] for x in group_one], [x[1] for x in group_one], color='r')"
   ]
  },
  {
   "cell_type": "code",
   "execution_count": null,
   "metadata": {
    "collapsed": true
   },
   "outputs": [],
   "source": []
  }
 ],
 "metadata": {
  "kernelspec": {
   "display_name": "Python 2",
   "language": "python",
   "name": "python2"
  },
  "language_info": {
   "codemirror_mode": {
    "name": "ipython",
    "version": 2
   },
   "file_extension": ".py",
   "mimetype": "text/x-python",
   "name": "python",
   "nbconvert_exporter": "python",
   "pygments_lexer": "ipython2",
   "version": "2.7.12"
  }
 },
 "nbformat": 4,
 "nbformat_minor": 0
}
