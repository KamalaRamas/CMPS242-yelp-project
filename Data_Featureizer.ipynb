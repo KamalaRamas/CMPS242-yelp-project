{
 "cells": [
  {
   "cell_type": "code",
   "execution_count": 1,
   "metadata": {
    "collapsed": true
   },
   "outputs": [],
   "source": [
    "%matplotlib inline\n",
    "import pandas as pd\n",
    "import simplejson as json  # faster json parsing\n",
    "import seaborn as sns\n",
    "import matplotlib.pyplot as plt\n",
    "import numpy as np"
   ]
  },
  {
   "cell_type": "code",
   "execution_count": 2,
   "metadata": {
    "collapsed": true
   },
   "outputs": [],
   "source": [
    "with open('yelp_academic_dataset_user.json') as f:\n",
    "    user_data = pd.DataFrame(json.loads(line) for line in f)\n",
    "\n",
    "with open('yelp_academic_dataset_review.json') as f:\n",
    "    review_data = pd.DataFrame(json.loads(line) for line in f)\n",
    "\n",
    "with open('yelp_academic_dataset_business.json') as f:\n",
    "    business_data = pd.DataFrame(json.loads(line) for line in f)"
   ]
  },
  {
   "cell_type": "code",
   "execution_count": 105,
   "metadata": {
    "collapsed": false
   },
   "outputs": [],
   "source": [
    "# for each user, produce a matrix of all numeric values\n",
    "# collapse elite to total counts\n",
    "# collapse compliments to a sum\n",
    "# collapse votes to a sum\n",
    "# collapse yelping since to a integer (# of days old)\n",
    "# keep fans as-is\n",
    "# hold out average stars and review count - those will be used for ground truth\n",
    "elite = [len(x) for x in user_data['elite']]\n",
    "compliments = [sum(x.values()) for x in user_data['compliments']]\n",
    "votes = [sum(x.values()) for x in user_data['votes']]\n",
    "account_age = [(datetime.datetime.now() - x).days for x in pd.to_datetime(user_data['yelping_since'])]\n",
    "user_df = pd.DataFrame(zip(*[user_data.user_id, elite, compliments, votes, account_age, user_data.fans]))\n",
    "user_df.columns = ['user_id', 'elite', 'compliments', 'votes', 'account_age', 'fans']\n",
    "user_df = user_df.set_index('user_id')"
   ]
  },
  {
   "cell_type": "code",
   "execution_count": 38,
   "metadata": {
    "collapsed": false
   },
   "outputs": [
    {
     "data": {
      "text/plain": [
       "10116"
      ]
     },
     "execution_count": 38,
     "metadata": {},
     "output_type": "execute_result"
    }
   ],
   "source": [
    "# now we can bring in their review data on a per-business basis. First, we need a list of all possible business types.\n",
    "len(set([frozenset(x) for x in business_data['categories']]))"
   ]
  },
  {
   "cell_type": "code",
   "execution_count": 54,
   "metadata": {
    "collapsed": false
   },
   "outputs": [
    {
     "name": "stdout",
     "output_type": "stream",
     "text": [
      "1017\n"
     ]
    }
   ],
   "source": [
    "# This is far too many! This is due to multiple categories for a business. How many categories do we have?\n",
    "import itertools\n",
    "categories = set(itertools.chain.from_iterable(business_data['categories']))\n",
    "print len(categories)"
   ]
  },
  {
   "cell_type": "code",
   "execution_count": 56,
   "metadata": {
    "collapsed": true
   },
   "outputs": [],
   "source": [
    "# 1017 categories is still too many. Another problem is that we don't know the exact hierarchy of categories.\n",
    "# for example, there are places that have both the terms 'cafes' and 'restaurants'\n",
    "# we also have a decision to make here regarding granularity - the more categories we allow, the fewer reviews we\n",
    "# have to use as features.\n",
    "\n",
    "# To derive the hierarchy, maybe I can create a ordered list by count, then pick the most common for each business"
   ]
  },
  {
   "cell_type": "code",
   "execution_count": 69,
   "metadata": {
    "collapsed": false
   },
   "outputs": [
    {
     "data": {
      "text/plain": [
       "[('Restaurants', 26729),\n",
       " ('Shopping', 12444),\n",
       " ('Food', 10143),\n",
       " ('Beauty & Spas', 7490),\n",
       " ('Health & Medical', 6106),\n",
       " ('Home Services', 5866),\n",
       " ('Nightlife', 5507),\n",
       " ('Automotive', 4888),\n",
       " ('Bars', 4727),\n",
       " ('Local Services', 4041),\n",
       " ('Active Life', 3455),\n",
       " ('Fashion', 3395),\n",
       " ('Event Planning & Services', 3237),\n",
       " ('Fast Food', 3154),\n",
       " ('Pizza', 2881),\n",
       " ('Mexican', 2705),\n",
       " ('Hotels & Travel', 2673),\n",
       " ('Sandwiches', 2666),\n",
       " ('American (Traditional)', 2608),\n",
       " ('Arts & Entertainment', 2447)]"
      ]
     },
     "execution_count": 69,
     "metadata": {},
     "output_type": "execute_result"
    }
   ],
   "source": [
    "from collections import Counter\n",
    "category_counts = Counter(itertools.chain.from_iterable(business_data['categories']))\n",
    "category_counts.most_common(20)"
   ]
  },
  {
   "cell_type": "code",
   "execution_count": 80,
   "metadata": {
    "collapsed": false
   },
   "outputs": [
    {
     "name": "stdout",
     "output_type": "stream",
     "text": [
      "22\n",
      "set(['Beauty & Spas', 'Arts & Entertainment', 'Pets', 'Home Services', 'Shopping', 'Food', 'Automotive', 'Religious Organizations', 'Local Flavor', 'Hotels & Travel', None, 'Local Services', 'Nightlife', 'Restaurants', 'Active Life', 'Public Services & Government', 'Health & Medical', 'Financial Services', 'Mass Media', 'Professional Services', 'Education', 'Event Planning & Services'])\n"
     ]
    }
   ],
   "source": [
    "def find_best(cat_list):\n",
    "    counts = [[x, category_counts[x]] for x in cat_list]\n",
    "    return sorted(counts, key=lambda (cat, count): -count)[0][0]\n",
    "\n",
    "categories = [find_best(cat_list) if len(cat_list) > 0 else None for cat_list in business_data['categories']]\n",
    "print len(set(categories))\n",
    "print set(categories)"
   ]
  },
  {
   "cell_type": "code",
   "execution_count": 91,
   "metadata": {
    "collapsed": false
   },
   "outputs": [],
   "source": [
    "# alright, we are getting somewhere!\n",
    "# now we assign these categories to each business, and discard those with no categories\n",
    "business_df = pd.DataFrame(zip(*[business_data.business_id, categories]))\n",
    "business_df.columns = ['business_id', 'category']\n",
    "business_df = business_df[~business_df.category.isnull()]\n",
    "business_df = business_df.set_index('business_id')\n",
    "# we leave out the star rating for now, as that will be part of our evaluation criteria"
   ]
  },
  {
   "cell_type": "code",
   "execution_count": 159,
   "metadata": {
    "collapsed": false
   },
   "outputs": [],
   "source": [
    "# the final set of features we need is to construct a DataFrame containing is the average scores a \n",
    "# user assigns to each category, the variance of these assignments, the total # of reviews in that category a \n",
    "# user produces, and the total # of votes they received in that category.\n",
    "# the structure of this dataframe will be in a flat format:\n",
    "#\n",
    "# user_id    business_id     mu     var     total    total_votes\n",
    "#   1             A          1       0        2         0\n",
    "#\n",
    "\n",
    "d = []\n",
    "# use these columns as the key to a dictionary and begin populating\n",
    "for user_id, user_reviews in review_data.groupby('user_id'):\n",
    "    for business_id, business_reviews in user_reviews.groupby('business_id'):\n",
    "        try:\n",
    "            category = business_df.ix[business_id].category\n",
    "        except KeyError:\n",
    "            continue  # some businesses are not in the database it seems\n",
    "        if category == None:\n",
    "            continue\n",
    "        mu = np.mean(user_reviews.stars)\n",
    "        var = np.var(user_reviews.stars)\n",
    "        total = len(user_reviews)\n",
    "        total_votes = sum([sum(x.values()) for x in user_reviews.votes])\n",
    "        d.append([user_id, business_id, mu, var, total, total_votes])\n",
    "\n",
    "df = pd.DataFrame(d)\n",
    "df.columns = ['user_id', 'business_id', 'mu', 'var', 'total', 'total_votes']"
   ]
  },
  {
   "cell_type": "code",
   "execution_count": 165,
   "metadata": {
    "collapsed": false
   },
   "outputs": [
    {
     "data": {
      "text/html": [
       "<div>\n",
       "<table border=\"1\" class=\"dataframe\">\n",
       "  <thead>\n",
       "    <tr style=\"text-align: right;\">\n",
       "      <th></th>\n",
       "      <th>user_id</th>\n",
       "      <th>business_id</th>\n",
       "      <th>mu</th>\n",
       "      <th>var</th>\n",
       "      <th>total</th>\n",
       "      <th>total_votes</th>\n",
       "    </tr>\n",
       "  </thead>\n",
       "  <tbody>\n",
       "    <tr>\n",
       "      <th>0</th>\n",
       "      <td>---teJGnwK07UO6_oJfbRw</td>\n",
       "      <td>0lWQSXID3T7K3DbjX7CpqQ</td>\n",
       "      <td>1.000000</td>\n",
       "      <td>0.000000</td>\n",
       "      <td>1</td>\n",
       "      <td>0</td>\n",
       "    </tr>\n",
       "    <tr>\n",
       "      <th>1</th>\n",
       "      <td>--0HEXd4W6bJI8k7E0RxTA</td>\n",
       "      <td>ZvvTPVqChi-mQd1JV6VM5w</td>\n",
       "      <td>5.000000</td>\n",
       "      <td>0.000000</td>\n",
       "      <td>2</td>\n",
       "      <td>3</td>\n",
       "    </tr>\n",
       "    <tr>\n",
       "      <th>2</th>\n",
       "      <td>--0HEXd4W6bJI8k7E0RxTA</td>\n",
       "      <td>bcBMAa0UQpNLFvvdZ4dxtQ</td>\n",
       "      <td>5.000000</td>\n",
       "      <td>0.000000</td>\n",
       "      <td>2</td>\n",
       "      <td>3</td>\n",
       "    </tr>\n",
       "    <tr>\n",
       "      <th>3</th>\n",
       "      <td>--0KsjlAThNWua2Pr4HStQ</td>\n",
       "      <td>DoKUOUwAsWrlRY6ehzQV_w</td>\n",
       "      <td>4.166667</td>\n",
       "      <td>0.472222</td>\n",
       "      <td>6</td>\n",
       "      <td>25</td>\n",
       "    </tr>\n",
       "    <tr>\n",
       "      <th>4</th>\n",
       "      <td>--0KsjlAThNWua2Pr4HStQ</td>\n",
       "      <td>NjHwPn2d3TL_xxnheXoSmw</td>\n",
       "      <td>4.166667</td>\n",
       "      <td>0.472222</td>\n",
       "      <td>6</td>\n",
       "      <td>25</td>\n",
       "    </tr>\n",
       "  </tbody>\n",
       "</table>\n",
       "</div>"
      ],
      "text/plain": [
       "                  user_id             business_id        mu       var  total  \\\n",
       "0  ---teJGnwK07UO6_oJfbRw  0lWQSXID3T7K3DbjX7CpqQ  1.000000  0.000000      1   \n",
       "1  --0HEXd4W6bJI8k7E0RxTA  ZvvTPVqChi-mQd1JV6VM5w  5.000000  0.000000      2   \n",
       "2  --0HEXd4W6bJI8k7E0RxTA  bcBMAa0UQpNLFvvdZ4dxtQ  5.000000  0.000000      2   \n",
       "3  --0KsjlAThNWua2Pr4HStQ  DoKUOUwAsWrlRY6ehzQV_w  4.166667  0.472222      6   \n",
       "4  --0KsjlAThNWua2Pr4HStQ  NjHwPn2d3TL_xxnheXoSmw  4.166667  0.472222      6   \n",
       "\n",
       "   total_votes  \n",
       "0            0  \n",
       "1            3  \n",
       "2            3  \n",
       "3           25  \n",
       "4           25  "
      ]
     },
     "execution_count": 165,
     "metadata": {},
     "output_type": "execute_result"
    }
   ],
   "source": [
    "df.head()"
   ]
  },
  {
   "cell_type": "code",
   "execution_count": null,
   "metadata": {
    "collapsed": true
   },
   "outputs": [],
   "source": []
  }
 ],
 "metadata": {
  "kernelspec": {
   "display_name": "Python 2",
   "language": "python",
   "name": "python2"
  },
  "language_info": {
   "codemirror_mode": {
    "name": "ipython",
    "version": 2
   },
   "file_extension": ".py",
   "mimetype": "text/x-python",
   "name": "python",
   "nbconvert_exporter": "python",
   "pygments_lexer": "ipython2",
   "version": "2.7.11"
  }
 },
 "nbformat": 4,
 "nbformat_minor": 0
}
