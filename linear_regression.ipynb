{
 "cells": [
  {
   "cell_type": "markdown",
   "metadata": {},
   "source": [
    "## Linear Regression implementation "
   ]
  },
  {
   "cell_type": "code",
   "execution_count": 3,
   "metadata": {
    "collapsed": true
   },
   "outputs": [],
   "source": [
    "import numpy as np\n",
    "import pandas as pd\n",
    "from scipy.optimize import minimize\n",
    "import random"
   ]
  },
  {
   "cell_type": "code",
   "execution_count": 4,
   "metadata": {
    "collapsed": false
   },
   "outputs": [],
   "source": [
    "user_data = pd.read_csv('data/user_data.tsv', sep='\\t', index_col=0)"
   ]
  },
  {
   "cell_type": "code",
   "execution_count": 5,
   "metadata": {
    "collapsed": false
   },
   "outputs": [
    {
     "data": {
      "text/html": [
       "<div>\n",
       "<table border=\"1\" class=\"dataframe\">\n",
       "  <thead>\n",
       "    <tr style=\"text-align: right;\">\n",
       "      <th></th>\n",
       "      <th>review_count</th>\n",
       "      <th>elite</th>\n",
       "      <th>account_age</th>\n",
       "      <th>fans</th>\n",
       "      <th>profile</th>\n",
       "      <th>useful_votes</th>\n",
       "      <th>num_tips</th>\n",
       "      <th>num_likes</th>\n",
       "    </tr>\n",
       "    <tr>\n",
       "      <th>user_id</th>\n",
       "      <th></th>\n",
       "      <th></th>\n",
       "      <th></th>\n",
       "      <th></th>\n",
       "      <th></th>\n",
       "      <th></th>\n",
       "      <th></th>\n",
       "      <th></th>\n",
       "    </tr>\n",
       "  </thead>\n",
       "  <tbody>\n",
       "    <tr>\n",
       "      <th>---teJGnwK07UO6_oJfbRw</th>\n",
       "      <td>2</td>\n",
       "      <td>0</td>\n",
       "      <td>2017</td>\n",
       "      <td>0</td>\n",
       "      <td>0</td>\n",
       "      <td>0</td>\n",
       "      <td>0.0</td>\n",
       "      <td>0.0</td>\n",
       "    </tr>\n",
       "    <tr>\n",
       "      <th>--0HEXd4W6bJI8k7E0RxTA</th>\n",
       "      <td>34</td>\n",
       "      <td>0</td>\n",
       "      <td>1651</td>\n",
       "      <td>2</td>\n",
       "      <td>0</td>\n",
       "      <td>15</td>\n",
       "      <td>0.0</td>\n",
       "      <td>0.0</td>\n",
       "    </tr>\n",
       "    <tr>\n",
       "      <th>--0KsjlAThNWua2Pr4HStQ</th>\n",
       "      <td>60</td>\n",
       "      <td>2</td>\n",
       "      <td>1010</td>\n",
       "      <td>2</td>\n",
       "      <td>0</td>\n",
       "      <td>191</td>\n",
       "      <td>0.0</td>\n",
       "      <td>0.0</td>\n",
       "    </tr>\n",
       "    <tr>\n",
       "      <th>--0mI_q_0D1CdU4P_hoImQ</th>\n",
       "      <td>31</td>\n",
       "      <td>0</td>\n",
       "      <td>1956</td>\n",
       "      <td>1</td>\n",
       "      <td>0</td>\n",
       "      <td>17</td>\n",
       "      <td>1.0</td>\n",
       "      <td>0.0</td>\n",
       "    </tr>\n",
       "    <tr>\n",
       "      <th>--106arHH4D3fLenTl3YZA</th>\n",
       "      <td>1</td>\n",
       "      <td>0</td>\n",
       "      <td>921</td>\n",
       "      <td>0</td>\n",
       "      <td>0</td>\n",
       "      <td>1</td>\n",
       "      <td>0.0</td>\n",
       "      <td>0.0</td>\n",
       "    </tr>\n",
       "  </tbody>\n",
       "</table>\n",
       "</div>"
      ],
      "text/plain": [
       "                        review_count  elite  account_age  fans  profile  \\\n",
       "user_id                                                                   \n",
       "---teJGnwK07UO6_oJfbRw             2      0         2017     0        0   \n",
       "--0HEXd4W6bJI8k7E0RxTA            34      0         1651     2        0   \n",
       "--0KsjlAThNWua2Pr4HStQ            60      2         1010     2        0   \n",
       "--0mI_q_0D1CdU4P_hoImQ            31      0         1956     1        0   \n",
       "--106arHH4D3fLenTl3YZA             1      0          921     0        0   \n",
       "\n",
       "                        useful_votes  num_tips  num_likes  \n",
       "user_id                                                    \n",
       "---teJGnwK07UO6_oJfbRw             0       0.0        0.0  \n",
       "--0HEXd4W6bJI8k7E0RxTA            15       0.0        0.0  \n",
       "--0KsjlAThNWua2Pr4HStQ           191       0.0        0.0  \n",
       "--0mI_q_0D1CdU4P_hoImQ            17       1.0        0.0  \n",
       "--106arHH4D3fLenTl3YZA             1       0.0        0.0  "
      ]
     },
     "execution_count": 5,
     "metadata": {},
     "output_type": "execute_result"
    }
   ],
   "source": [
    "user_data.head()"
   ]
  },
  {
   "cell_type": "code",
   "execution_count": 8,
   "metadata": {
    "collapsed": false
   },
   "outputs": [],
   "source": [
    "feature_matrix = pd.read_json('data/feature_matrix.json')\n",
    "feature_matrix = feature_matrix[['account_age', 'elite', 'fans', 'num_likes', 'num_tips', 'profile', 'review_count', 'useful_votes']]"
   ]
  },
  {
   "cell_type": "code",
   "execution_count": 28,
   "metadata": {
    "collapsed": false
   },
   "outputs": [],
   "source": [
    "def cost(theta, X, y):\n",
    "    \"\"\"\n",
    "    Calculates the sum of squares cost for a given set of parameters\n",
    "    \"\"\"\n",
    "    X = np.matrix( X )\n",
    "    y = np.matrix( y )\n",
    "    theta = np.matrix( theta )\n",
    "    \n",
    "    # Predicted labels\n",
    "    y_hat = X.dot( theta.T )\n",
    "    \n",
    "    # Sum of error terms in prediction\n",
    "    SOS = np.power( np.subtract( y_hat, y ), 2 ).sum()\n",
    "    \n",
    "    N = y.size\n",
    "    cost = ( 1.0 / ( 2 * N ) ) * SOS\n",
    "    return cost"
   ]
  },
  {
   "cell_type": "code",
   "execution_count": 29,
   "metadata": {
    "collapsed": false
   },
   "outputs": [],
   "source": [
    "class LinearRegression(object):\n",
    "    def __init__(self):\n",
    "        self.theta = None\n",
    "        \n",
    "    def train(self, X, y):\n",
    "        \"\"\"\n",
    "        Estimates linear regression parameters\n",
    "        \"\"\"\n",
    "        rows, columns = X.shape\n",
    "        # Initialize random values for weights\n",
    "        self.theta = np.matrix([random.random() for _ in xrange(columns)])\n",
    "        res = minimize( cost, self.theta, (X, y) )\n",
    "        self.theta = res.x\n",
    "        \n",
    "    def predict(self, X):\n",
    "        \"\"\"\n",
    "        Predict output for a given vector X\n",
    "        \"\"\"\n",
    "        return X.dot(self.theta)"
   ]
  },
  {
   "cell_type": "code",
   "execution_count": 30,
   "metadata": {
    "collapsed": false
   },
   "outputs": [],
   "source": [
    "linReg = LinearRegression()\n",
    "\n",
    "X = user_data.as_matrix()\n",
    "rows, columns = X.shape\n",
    "X = np.insert(X, 0, 1, axis=1)\n",
    "target = [random.random() for _ in xrange(rows)]\n",
    "y = np.matrix(target).T\n",
    "linReg.train(X, y)"
   ]
  },
  {
   "cell_type": "code",
   "execution_count": 66,
   "metadata": {
    "collapsed": false
   },
   "outputs": [],
   "source": [
    "def unit_test():\n",
    "    \"\"\"\n",
    "    Tests functionality of linear regression class\n",
    "    \"\"\"\n",
    "    csv = pd.read_csv('http://www-bcf.usc.edu/~gareth/ISL/Advertising.csv', index_col=0)      \n",
    "    train = csv.sample( frac = 0.8, random_state = 0 )\n",
    "    test = csv.drop( train.index )\n",
    "    \n",
    "    testReg = LinearRegression()\n",
    "    \n",
    "    X = train[['TV', 'Radio', 'Newspaper']].as_matrix()\n",
    "    \n",
    "    rows, columns = X.shape\n",
    "    X = np.insert(X, 0, 1, axis=1)\n",
    "    y = np.matrix(train['Sales']).T\n",
    "    \n",
    "    testReg.train(X, y)\n",
    "    \n",
    "    X_test = test[['TV', 'Radio', 'Newspaper']].as_matrix()\n",
    "    X_test = np.insert(X_test, 0, 1, axis=1)\n",
    "    y_test = np.matrix(test['Sales']).T\n",
    "        \n",
    "    if np.isclose( cost( testReg.theta, X_test, y_test ), 1.57881917886 ):\n",
    "        print \"Unit test passed!\"\n",
    "        \n",
    "    else:\n",
    "        print \"Unit test failed : (\""
   ]
  },
  {
   "cell_type": "code",
   "execution_count": 67,
   "metadata": {
    "collapsed": false
   },
   "outputs": [
    {
     "name": "stdout",
     "output_type": "stream",
     "text": [
      "Unit test passed!\n"
     ]
    }
   ],
   "source": [
    "unit_test()"
   ]
  },
  {
   "cell_type": "code",
   "execution_count": null,
   "metadata": {
    "collapsed": true
   },
   "outputs": [],
   "source": []
  }
 ],
 "metadata": {
  "kernelspec": {
   "display_name": "Python 2",
   "language": "python",
   "name": "python2"
  },
  "language_info": {
   "codemirror_mode": {
    "name": "ipython",
    "version": 2
   },
   "file_extension": ".py",
   "mimetype": "text/x-python",
   "name": "python",
   "nbconvert_exporter": "python",
   "pygments_lexer": "ipython2",
   "version": "2.7.12"
  }
 },
 "nbformat": 4,
 "nbformat_minor": 0
}
